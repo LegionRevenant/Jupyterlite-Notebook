{
 "cells": [
  {
   "cell_type": "code",
   "execution_count": null,
   "id": "89cb54d3-3438-4f77-9c9e-669fc0f76182",
   "metadata": {
    "jupyter": {
     "source_hidden": true
    }
   },
   "outputs": [],
   "source": [
    "Data Science Tools and Ecosystem"
   ]
  },
  {
   "cell_type": "code",
   "execution_count": null,
   "id": "506d2a55-daec-4709-a750-0748d789057b",
   "metadata": {
    "jupyter": {
     "source_hidden": true
    }
   },
   "outputs": [],
   "source": [
    "In this notebook, we will summarize some of the essential tools, libraries, and languages used in the field of Data Science."
   ]
  },
  {
   "cell_type": "code",
   "execution_count": null,
   "id": "1347570c-cf8a-4a8f-abdf-401b86382dc8",
   "metadata": {},
   "outputs": [],
   "source": [
    "Popular Languages for Data Science\n",
    "- Python  \n",
    "- R  \n",
    "- SQL  \n",
    "- Julia  \n",
    "- Scala"
   ]
  },
  {
   "cell_type": "code",
   "execution_count": null,
   "id": "e4660615-8a31-4871-993c-531c839f5ce3",
   "metadata": {},
   "outputs": [],
   "source": [
    "Commonly Used Libraries by Data Scientists\n",
    "- Pandas  \n",
    "- NumPy  \n",
    "- Matplotlib  \n",
    "- Scikit-learn  \n",
    "- TensorFlow  \n",
    "- ggplot2 (for R)"
   ]
  },
  {
   "cell_type": "code",
   "execution_count": null,
   "id": "8041b78d-1f88-489b-a292-d56ff2f952f4",
   "metadata": {},
   "outputs": [],
   "source": [
    "Data Science Tools\n",
    "| Tool            | Category            |\n",
    "|-----------------|---------------------|\n",
    "| Jupyter Notebook| Development Environment |\n",
    "| RStudio         | Development Environment |\n",
    "| Apache Spark    | Big Data Processing  |\n"
   ]
  },
  {
   "cell_type": "code",
   "execution_count": null,
   "id": "ea421fd5-eda5-4bdc-8f67-1a274cba2fdb",
   "metadata": {},
   "outputs": [],
   "source": [
    "Below are a few examples of evaluating arithmetic expressions in Python"
   ]
  },
  {
   "cell_type": "code",
   "execution_count": 1,
   "id": "7107892e-8d6e-46f1-81c6-f026b2b44f3a",
   "metadata": {},
   "outputs": [
    {
     "data": {
      "text/plain": [
       "17"
      ]
     },
     "execution_count": 1,
     "metadata": {},
     "output_type": "execute_result"
    }
   ],
   "source": [
    "#This will multiply then add numbers\n",
    "(3 * 4) + 5"
   ]
  },
  {
   "cell_type": "code",
   "execution_count": 2,
   "id": "5fa15c37-34ea-4223-8cf1-6e66729137bf",
   "metadata": {},
   "outputs": [
    {
     "data": {
      "text/plain": [
       "3.3333333333333335"
      ]
     },
     "execution_count": 2,
     "metadata": {},
     "output_type": "execute_result"
    }
   ],
   "source": [
    "#This will convert 200 minutes to hours\n",
    "minutes = 200\n",
    "hours = minutes / 60\n",
    "hours"
   ]
  },
  {
   "cell_type": "code",
   "execution_count": null,
   "id": "4d41edc4-f5f1-4bcb-9216-7f02270601cc",
   "metadata": {},
   "outputs": [],
   "source": [
    "## Objectives\n",
    "- List popular languages used in Data Science\n",
    "- Describe commonly used libraries in Data Science\n",
    "- Demonstrate arithmetic expression examples\n",
    "- Create and format markdown cells\n",
    "- Convert minutes to hours using Python"
   ]
  }
 ],
 "metadata": {
  "kernelspec": {
   "display_name": "Python 3 (ipykernel)",
   "language": "python",
   "name": "python3"
  },
  "language_info": {
   "codemirror_mode": {
    "name": "ipython",
    "version": 3
   },
   "file_extension": ".py",
   "mimetype": "text/x-python",
   "name": "python",
   "nbconvert_exporter": "python",
   "pygments_lexer": "ipython3",
   "version": "3.12.8"
  }
 },
 "nbformat": 4,
 "nbformat_minor": 5
}
